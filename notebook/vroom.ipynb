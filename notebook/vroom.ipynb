{
 "cells": [
  {
   "cell_type": "markdown",
   "metadata": {},
   "source": [
    "# Vroom (Name subject to change)\n",
    "Jupyter Notebook used to import, explore, and hopefully implement a proper model.\n",
    "\n",
    "## Importing\n",
    "With the use of Pandas library in Python, we are able to successfully load the .csv for the data.\n",
    "\n",
    "## Exploring\n",
    "### Overview\n",
    "With the use of Pandas to delve deep into the data given to have a general overview.\n",
    "\n",
    "### Changing Localisation\n",
    "Current locale: Detusch (Deutschland/Germany).\\\n",
    "As a result; keywords will be identified and replaced with English equivalent.\n",
    "\n",
    "### NaNs/Missing Data\n",
    "Using Pandas/Numpy to fill in missing data or remove unretrievable data (If number is negligible)."
   ]
  },
  {
   "cell_type": "code",
   "execution_count": 3,
   "metadata": {},
   "outputs": [],
   "source": [
    "# Importing libraries\n",
    "import numpy as np\n",
    "import pandas as pd"
   ]
  },
  {
   "cell_type": "code",
   "execution_count": 4,
   "metadata": {},
   "outputs": [],
   "source": [
    "# Loading data\n",
    "\n",
    "# 1. Using relative path\n",
    "# (I'm using this due to file/folder setup within my gitrepo)\n",
    "carDat = pd.read_csv(\"../dataset/autos.csv\")\n",
    "\n",
    "# 2. Use this (uncomment) if .csv is in the same folder\n",
    "# in addition to commenting the above line of code\n",
    "#carDat = pd.read_csv(\"./autos.csv\")"
   ]
  },
  {
   "cell_type": "markdown",
   "metadata": {},
   "source": [
    "# Showing Data\n",
    "Using head/tail/describe/info\n",
    "\n",
    "Head: Shows first $n$ rows.\n",
    "Tail: Shows last $n$ rows.\n",
    "\n",
    "Describle: Runs basic statistics on numerical columns.\n",
    "\n",
    "Info: Shows an overview regarding dataset"
   ]
  },
  {
   "cell_type": "code",
   "execution_count": null,
   "metadata": {},
   "outputs": [],
   "source": [
    "# Dictating how many rows to view\n",
    "n = 5\n",
    "\n",
    "# Using the display() to show\n",
    "# multiple outputs from the same cell\n",
    "\n",
    "# Getting the first n rows\n",
    "display(carDat.head(n))\n",
    "\n",
    "# Getting the last n rows\n",
    "display(carDat.tail(n))"
   ]
  },
  {
   "cell_type": "code",
   "execution_count": null,
   "metadata": {},
   "outputs": [],
   "source": [
    "# Run this cell (and one below) instead of the above\n",
    "# For separate cell outputs\n",
    "\n",
    "# First n rows\n",
    "carDat.head(n)"
   ]
  },
  {
   "cell_type": "code",
   "execution_count": null,
   "metadata": {},
   "outputs": [],
   "source": [
    "# Last n rows\n",
    "carDat.tail(n)"
   ]
  },
  {
   "cell_type": "code",
   "execution_count": 59,
   "metadata": {},
   "outputs": [],
   "source": [
    "# Removing index column\n",
    "# Python already indexes\n",
    "# Does not pose any value\n",
    "carDat.drop(columns = 'index', inplace = True)"
   ]
  },
  {
   "cell_type": "code",
   "execution_count": null,
   "metadata": {},
   "outputs": [],
   "source": [
    "# Describing numerical columns\n",
    "carDat.describe()"
   ]
  },
  {
   "cell_type": "code",
   "execution_count": null,
   "metadata": {},
   "outputs": [],
   "source": [
    "# Printing Dataframe info\n",
    "carDat.info()"
   ]
  },
  {
   "cell_type": "markdown",
   "metadata": {},
   "source": [
    "# Selecting keywords that matter\n",
    "From looking at some values in columns, some values seem to be repeating regularly and thus they would be considered keywords to be translated later.\n",
    "\n",
    "Getting unique values from non-numerical columns\\\n",
    "Due to the current locale, swapping to english\n",
    "would be more optimal\\\n",
    "Unless specified to work with German as is\n",
    "\n",
    "Noted Columns: [seller, offertype, abtest, vehicleType, gearbox, fuelType, notRepairedDamage]"
   ]
  },
  {
   "cell_type": "code",
   "execution_count": null,
   "metadata": {},
   "outputs": [],
   "source": [
    "# Getting list of columns within the dataframe\n",
    "# whilst excluding numerical columns\n",
    "col_names_obj = list(carDat.select_dtypes(exclude='int64').columns.values)\n",
    "\n",
    "print(col_names_obj, carDat.select_dtypes(exclude='int64').info())"
   ]
  },
  {
   "cell_type": "code",
   "execution_count": 9,
   "metadata": {},
   "outputs": [],
   "source": [
    "# Manually removing object-like values\n",
    "# i.e dates\n",
    "# selecting columns that may have a keyword in German\n",
    "col_names_unique = ['seller', 'offerType', 'abtest', 'vehicleType', 'gearbox', 'fuelType', 'notRepairedDamage']"
   ]
  },
  {
   "cell_type": "code",
   "execution_count": 8,
   "metadata": {},
   "outputs": [
    {
     "name": "stdout",
     "output_type": "stream",
     "text": [
      "['privat' 'gewerblich']\n",
      "['Angebot' 'Gesuch']\n",
      "['test' 'control']\n",
      "[nan 'coupe' 'suv' 'kleinwagen' 'limousine' 'cabrio' 'bus' 'kombi'\n",
      " 'andere']\n",
      "['manuell' 'automatik' nan]\n",
      "['benzin' 'diesel' nan 'lpg' 'andere' 'hybrid' 'cng' 'elektro']\n",
      "[nan 'ja' 'nein']\n"
     ]
    }
   ],
   "source": [
    "# As seen from the above output cell\n",
    "# we'll only need to extract unique\n",
    "# words from object columns\n",
    "\n",
    "for col in col_names_unique:\n",
    "    print(carDat[col].unique())"
   ]
  }
 ],
 "metadata": {
  "kernelspec": {
   "display_name": "Python 3",
   "language": "python",
   "name": "python3"
  },
  "language_info": {
   "codemirror_mode": {
    "name": "ipython",
    "version": 3
   },
   "file_extension": ".py",
   "mimetype": "text/x-python",
   "name": "python",
   "nbconvert_exporter": "python",
   "pygments_lexer": "ipython3",
   "version": "3.11.4"
  },
  "orig_nbformat": 4
 },
 "nbformat": 4,
 "nbformat_minor": 2
}
